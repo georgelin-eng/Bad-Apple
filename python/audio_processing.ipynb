{
 "cells": [
  {
   "cell_type": "code",
   "execution_count": 6,
   "metadata": {},
   "outputs": [
    {
     "name": "stdout",
     "output_type": "stream",
     "text": [
      "PCM data segments written to output_segments\n"
     ]
    }
   ],
   "source": [
    "import wave\n",
    "import struct\n",
    "import os\n",
    "\n",
    "def wav_to_segments(input_wav, output_dir, num_segments):\n",
    "    # Create the output directory if it doesn't exist\n",
    "    os.makedirs(output_dir, exist_ok=True)\n",
    "    \n",
    "    with wave.open(input_wav, 'rb') as wav_file:\n",
    "        # Ensure the wav file is 16-bit PCM\n",
    "        if wav_file.getsampwidth() != 2:\n",
    "            raise ValueError(\"Only 16-bit PCM WAV files are supported.\")\n",
    "        \n",
    "        n_channels = wav_file.getnchannels()\n",
    "        n_frames = wav_file.getnframes()\n",
    "        \n",
    "        frames = wav_file.readframes(n_frames)\n",
    "        \n",
    "        # Unpack the frames to PCM data\n",
    "        pcm_data = struct.unpack('<' + 'h' * (n_frames * n_channels), frames)\n",
    "        \n",
    "        # Calculate the number of samples per segment\n",
    "        samples_per_segment = len(pcm_data) // num_segments\n",
    "        \n",
    "        for segment_index in range(num_segments):\n",
    "            start_index = segment_index * samples_per_segment\n",
    "            end_index = start_index + samples_per_segment if segment_index < num_segments - 1 else len(pcm_data)\n",
    "            segment_data = pcm_data[start_index:end_index]\n",
    "            \n",
    "            # Write segment data to text file\n",
    "            output_txt = os.path.join(output_dir, f\"segment_{segment_index:03d}.txt\")\n",
    "            with open(output_txt, 'w') as txt_file:\n",
    "                for sample in segment_data:\n",
    "                    txt_file.write(f\"{sample}\\n\")\n",
    "\n",
    "def main():\n",
    "    input_wav = 'BadApple_8KHz.wav'  # Replace with your input wav file path\n",
    "    output_dir = 'output_segments'  # Directory to save the segment text files\n",
    "    num_segments = 440\n",
    "    wav_to_segments(input_wav, output_dir, num_segments)\n",
    "    print(f\"PCM data segments written to {output_dir}\")\n",
    "\n",
    "if __name__ == \"__main__\":\n",
    "    main()\n"
   ]
  }
 ],
 "metadata": {
  "kernelspec": {
   "display_name": "Python 3",
   "language": "python",
   "name": "python3"
  },
  "language_info": {
   "codemirror_mode": {
    "name": "ipython",
    "version": 3
   },
   "file_extension": ".py",
   "mimetype": "text/x-python",
   "name": "python",
   "nbconvert_exporter": "python",
   "pygments_lexer": "ipython3",
   "version": "3.11.3"
  }
 },
 "nbformat": 4,
 "nbformat_minor": 2
}
