{
 "cells": [
  {
   "cell_type": "code",
   "execution_count": 1,
   "metadata": {},
   "outputs": [],
   "source": [
    "import cv2\n",
    "import numpy as np\n",
    "import os\n",
    "from PIL import Image\n",
    "import moviepy.editor as mp"
   ]
  },
  {
   "cell_type": "code",
   "execution_count": 2,
   "metadata": {},
   "outputs": [
    {
     "name": "stdout",
     "output_type": "stream",
     "text": [
      "c:\\Users\\flipa\\OneDrive - UBC\\Projects\\Bad-Apple\\python\\BadApple_200x150 - 15 FPS.mp4\n"
     ]
    }
   ],
   "source": [
    "current_directory = os.getcwd()\n",
    "\n",
    "video_file = 'BadApple_200x150 - 15 FPS.mp4'\n",
    "video_path = os.path.join(current_directory, video_file)\n",
    "output_folder = os.path.join(current_directory, 'output_images')\n",
    "\n",
    " # Create the output folder if it doesn't exist\n",
    "if not os.path.exists(output_folder):\n",
    "    os.makedirs(output_folder)\n",
    "\n",
    "print (video_path)"
   ]
  },
  {
   "cell_type": "code",
   "execution_count": 3,
   "metadata": {},
   "outputs": [],
   "source": [
    "vidcap = cv2.VideoCapture(video_path)\n",
    "\n",
    "success,image = vidcap.read()\n",
    "frame_number = 0\n",
    "while success:\n",
    "    output_path = os.path.join(output_folder, f\"frame_{frame_number:04d}.png\")\n",
    "    cv2.imwrite(f\"{output_path}\", image)     # save frame as png file      \n",
    "    success,image = vidcap.read()\n",
    "    frame_number += 1\n"
   ]
  },
  {
   "cell_type": "code",
   "execution_count": 5,
   "metadata": {},
   "outputs": [],
   "source": [
    "from PIL import Image\n",
    "import numpy as np\n",
    "\n",
    "start_frame = 44\n",
    "\n",
    "for i in range(1,16):\n",
    "    # Load the image\n",
    "    image_path = f'output_images/frame_{(start_frame+i):04d}.png'\n",
    "    image = cv2.imread(image_path, cv2.IMREAD_GRAYSCALE)\n",
    "\n",
    "    # Apply binary threshold\n",
    "    _, binary_image = cv2.threshold(image, 127, 255, cv2.THRESH_BINARY)\n",
    "\n",
    "    # Convert binary image to 1s and 0s\n",
    "    bitmap = np.where(binary_image == 255, 1, 0)\n",
    "    output_file = f'../rtl/frames/frame_{i}.mem'\n",
    "    with open(output_file, 'w') as f:\n",
    "        for row in bitmap:\n",
    "            for pixel in row:\n",
    "                f.write(f\"{pixel}\\n\")\n"
   ]
  },
  {
   "cell_type": "code",
   "execution_count": 5,
   "metadata": {},
   "outputs": [],
   "source": [
    "bitmap_folder = os.path.join(current_directory, 'output_bitmaps')\n",
    "# os.makedirs(bitmap_folder)\n",
    "\n",
    "for frame_to_process in range (0, 6571):\n",
    "    image_path = os.path.join(current_directory, f\"output_images/frame_{frame_to_process:04d}.png\")\n",
    "    output_file = os.path.join(current_directory, f\"output_bitmaps/frame_{frame_to_process:04d}.txt\")\n",
    "    image = cv2.imread(image_path, cv2.IMREAD_GRAYSCALE)\n",
    "    _, binary_image = cv2.threshold(image, 127, 255, cv2.THRESH_BINARY)\n",
    "    bitmap = np.where(binary_image == 255, 1, 0)\n",
    "\n",
    "    np.savetxt(output_file, bitmap, fmt='%d')\n"
   ]
  },
  {
   "cell_type": "code",
   "execution_count": 49,
   "metadata": {},
   "outputs": [],
   "source": [
    "# testing what it looks like if 2nd line is black\n",
    "\n",
    "test_frame = 500\n",
    "test_image_file = os.path.join(current_directory, f\"output_images/frame_{test_frame:04d}.png\")\n",
    "def process_image(image_path):\n",
    "    # Open the image\n",
    "    img = Image.open(image_path)\n",
    "    \n",
    "    # Get the dimensions of the image\n",
    "    width, height = img.size\n",
    "    \n",
    "    # Iterate over every pixel row\n",
    "    for y in range(height):\n",
    "        # Check if the row index is even (since indexing starts from 0)\n",
    "        if y % 4 == 3 or y % 4 == 2 or y % 4 == 1: # really, really aggressive data savings\n",
    "        #if y % 3 == 2 or y % 3 == 1:\n",
    "        #if y % 2 == 1:\n",
    "            # Iterate over every pixel in the row\n",
    "            for x in range(width):\n",
    "                # Set the pixel to pure black\n",
    "                img.putpixel((x, y), (0, 0, 0))  # Setting RGB value to (0, 0, 0) for pure black\n",
    "    \n",
    "    # Save the modified image\n",
    "    img.save(\"processed_image.png\")\n",
    "    img.show()\n",
    "\n",
    "# Example usage\n",
    "process_image(test_image_file)"
   ]
  },
  {
   "cell_type": "code",
   "execution_count": 8,
   "metadata": {},
   "outputs": [
    {
     "name": "stdout",
     "output_type": "stream",
     "text": [
      "file_paths[0] = \"C:\\Users\\flipa\\OneDrive - UBC\\Projects\\Bad-Apple\\rtl\\frames\\frame_1.mem;\"\n",
      "file_paths[1] = \"C:\\Users\\flipa\\OneDrive - UBC\\Projects\\Bad-Apple\\rtl\\frames\\frame_2.mem;\"\n",
      "file_paths[2] = \"C:\\Users\\flipa\\OneDrive - UBC\\Projects\\Bad-Apple\\rtl\\frames\\frame_3.mem;\"\n",
      "file_paths[3] = \"C:\\Users\\flipa\\OneDrive - UBC\\Projects\\Bad-Apple\\rtl\\frames\\frame_4.mem;\"\n",
      "file_paths[4] = \"C:\\Users\\flipa\\OneDrive - UBC\\Projects\\Bad-Apple\\rtl\\frames\\frame_5.mem;\"\n",
      "file_paths[5] = \"C:\\Users\\flipa\\OneDrive - UBC\\Projects\\Bad-Apple\\rtl\\frames\\frame_6.mem;\"\n",
      "file_paths[6] = \"C:\\Users\\flipa\\OneDrive - UBC\\Projects\\Bad-Apple\\rtl\\frames\\frame_7.mem;\"\n",
      "file_paths[7] = \"C:\\Users\\flipa\\OneDrive - UBC\\Projects\\Bad-Apple\\rtl\\frames\\frame_8.mem;\"\n",
      "file_paths[8] = \"C:\\Users\\flipa\\OneDrive - UBC\\Projects\\Bad-Apple\\rtl\\frames\\frame_9.mem;\"\n",
      "file_paths[9] = \"C:\\Users\\flipa\\OneDrive - UBC\\Projects\\Bad-Apple\\rtl\\frames\\frame_10.mem;\"\n",
      "file_paths[10] = \"C:\\Users\\flipa\\OneDrive - UBC\\Projects\\Bad-Apple\\rtl\\frames\\frame_11.mem;\"\n",
      "file_paths[11] = \"C:\\Users\\flipa\\OneDrive - UBC\\Projects\\Bad-Apple\\rtl\\frames\\frame_12.mem;\"\n",
      "file_paths[12] = \"C:\\Users\\flipa\\OneDrive - UBC\\Projects\\Bad-Apple\\rtl\\frames\\frame_13.mem;\"\n",
      "file_paths[13] = \"C:\\Users\\flipa\\OneDrive - UBC\\Projects\\Bad-Apple\\rtl\\frames\\frame_14.mem;\"\n",
      "file_paths[14] = \"C:\\Users\\flipa\\OneDrive - UBC\\Projects\\Bad-Apple\\rtl\\frames\\frame_15.mem;\"\n"
     ]
    }
   ],
   "source": [
    "\n",
    "for i in range (0, 15):\n",
    "    string = f\"file_paths[{i}] = \\\"C:\\\\Users\\\\flipa\\\\OneDrive - UBC\\\\Projects\\\\Bad-Apple\\\\rtl\\\\frames\\\\frame_{i+1}.mem;\\\"\"\n",
    "\n",
    "    print (string)"
   ]
  },
  {
   "cell_type": "code",
   "execution_count": 59,
   "metadata": {},
   "outputs": [],
   "source": [
    "directory = 'output_bitmaps'\n",
    "files = sorted([f for f in os.listdir(directory) if f.startswith('frame_') and f.endswith('.txt')])\n",
    "\n",
    "batch_size = 15\n",
    "total_batches = (len(files) + batch_size - 1) // batch_size\n",
    "\n",
    "audio_directory = 'output_segments'\n",
    "audio_files = sorted([f for f in os.listdir(audio_directory) if f.startswith('segment_') and f.endswith('.txt')])"
   ]
  },
  {
   "cell_type": "code",
   "execution_count": 57,
   "metadata": {},
   "outputs": [
    {
     "name": "stdout",
     "output_type": "stream",
     "text": [
      "0.015967369079589844\n",
      "0.011077404022216797\n",
      "0.010107040405273438\n",
      "0.011083364486694336\n",
      "0.009229660034179688\n",
      "0.008885860443115234\n",
      "0.008178472518920898\n",
      "0.007822275161743164\n",
      "0.009101390838623047\n",
      "0.008784294128417969\n"
     ]
    }
   ],
   "source": [
    "import os\n",
    "import time\n",
    "\n",
    "def read_files_to_bytestream(file_paths):\n",
    "    bytestream = bytearray()\n",
    "    \n",
    "    for file_path in file_paths:\n",
    "        with open(file_path, 'r') as file:\n",
    "            content = file.read()\n",
    "            bytestream.extend(content.encode('utf-8'))\n",
    "    \n",
    "    return bytestream\n",
    "\n",
    "def main():\n",
    "    for batch_index in range(1,2):\n",
    "        start_index = batch_index * batch_size\n",
    "        end_index = start_index + batch_size\n",
    "        file_paths       = [os.path.join(directory, files[i]) for i in range(start_index, min(end_index, len(files)))]\n",
    "        audio_file_paths = [os.path.join(audio_directory, files[i]) for i in range(start_index, min(end_index, len(files)))]\n",
    "\n",
    "        bytestream = read_files_to_bytestream(file_paths)\n",
    "    \n",
    "        # For demonstration, print the length of the bytestream for each batch\n",
    "        # print(f\"Batch {batch_index}: bytestream length = {len(bytestream)}\")\n",
    "    \n",
    "        # You can now use the bytestream for SPI communication\n",
    "        # For example, send it over SPI, save to a file, etc.\n",
    "        # For this example, we're just printing the length of the bytestream\n",
    "\n",
    "init_time = time.time()\n",
    "for i in range (0, 10) :\n",
    "    start_time = time.time()\n",
    "    if __name__ == \"__main__\":\n",
    "        main()\n",
    "    end_time = time.time()\n",
    "\n",
    "    print(end_time - start_time)\n",
    "\n",
    "total_end_time = time.time()\n"
   ]
  },
  {
   "cell_type": "code",
   "execution_count": 6,
   "metadata": {},
   "outputs": [
    {
     "name": "stdout",
     "output_type": "stream",
     "text": [
      "1'b0, 1'b1, 1'b0, 1'b0, 1'b1, 1'b0, 1'b1, 1'b1, 1'b0, 1'b0, 1'b0, 1'b0, 1'b0, 1'b1, 1'b0, 1'b1, 1'b1, 1'b1, 1'b0, 1'b1, 1'b1, 1'b1, 1'b0, 1'b1, 1'b0, 1'b1, 1'b0, 1'b0, 1'b1, 1'b0, 1'b1, 1'b1, 1'b0, 1'b0, 1'b0, 1'b0, 1'b0, 1'b1, 1'b0, 1'b1, 1'b1, 1'b1, 1'b0, 1'b1, 1'b1, 1'b1, 1'b0, 1'b1, \n"
     ]
    }
   ],
   "source": [
    "binary_string = \"010010110000010111011101010010110000010111011101\"\n",
    "new_string = ''\n",
    "\n",
    "for bit in binary_string:\n",
    "    new_string = new_string + \"1'b\" + bit + \", \"\n",
    "\n",
    "\n",
    "print(new_string)"
   ]
  }
 ],
 "metadata": {
  "kernelspec": {
   "display_name": "base",
   "language": "python",
   "name": "python3"
  },
  "language_info": {
   "codemirror_mode": {
    "name": "ipython",
    "version": 3
   },
   "file_extension": ".py",
   "mimetype": "text/x-python",
   "name": "python",
   "nbconvert_exporter": "python",
   "pygments_lexer": "ipython3",
   "version": "3.11.3"
  }
 },
 "nbformat": 4,
 "nbformat_minor": 2
}
