{
 "cells": [
  {
   "cell_type": "code",
   "execution_count": 3,
   "metadata": {},
   "outputs": [],
   "source": [
    "import cv2\n",
    "import numpy as np\n",
    "import os\n",
    "from PIL import Image\n",
    "import moviepy.editor as mp"
   ]
  },
  {
   "cell_type": "code",
   "execution_count": 17,
   "metadata": {},
   "outputs": [
    {
     "name": "stdout",
     "output_type": "stream",
     "text": [
      "c:\\Users\\flipa\\OneDrive - UBC\\Projects\\Bad-Apple\\python\\BadApple_160x120 - 15 FPS.mp4\n"
     ]
    }
   ],
   "source": [
    "current_directory = os.getcwd()\n",
    "\n",
    "video_file = 'BadApple_160x120 - 15 FPS.mp4'\n",
    "video_path = os.path.join(current_directory, video_file)\n",
    "output_folder = os.path.join(current_directory, 'output_images')\n",
    "\n",
    " # Create the output folder if it doesn't exist\n",
    "if not os.path.exists(output_folder):\n",
    "    os.makedirs(output_folder)\n",
    "\n",
    "print (video_path)"
   ]
  },
  {
   "cell_type": "code",
   "execution_count": 18,
   "metadata": {},
   "outputs": [],
   "source": [
    "vidcap = cv2.VideoCapture(video_path)\n",
    "\n",
    "success,image = vidcap.read()\n",
    "frame_number = 0\n",
    "while success:\n",
    "    output_path = os.path.join(output_folder, f\"frame_{frame_number:04d}.png\")\n",
    "    cv2.imwrite(f\"{output_path}\", image)     # save frame as png file      \n",
    "    success,image = vidcap.read()\n",
    "    frame_number += 1\n"
   ]
  },
  {
   "cell_type": "code",
   "execution_count": 20,
   "metadata": {},
   "outputs": [],
   "source": [
    "bitmap_folder = os.path.join(current_directory, 'output_bitmaps')\n",
    "os.makedirs(bitmap_folder)\n",
    "\n",
    "for frame_to_process in range (0, 6571):\n",
    "    image_path = os.path.join(current_directory, f\"output_images/frame_{frame_to_process:04d}.png\")\n",
    "    output_file = os.path.join(current_directory, f\"output_bitmaps/frame_{frame_to_process:04d}.txt\")\n",
    "    image = cv2.imread(image_path, cv2.IMREAD_GRAYSCALE)\n",
    "    _, binary_image = cv2.threshold(image, 127, 255, cv2.THRESH_BINARY)\n",
    "    bitmap = np.where(binary_image == 255, 1, 0)\n",
    "\n",
    "    np.savetxt(output_file, bitmap, fmt='%d')\n"
   ]
  },
  {
   "cell_type": "code",
   "execution_count": 49,
   "metadata": {},
   "outputs": [],
   "source": [
    "# testing what it looks like if 2nd line is black\n",
    "\n",
    "test_frame = 500\n",
    "test_image_file = os.path.join(current_directory, f\"output_images/frame_{test_frame:04d}.png\")\n",
    "def process_image(image_path):\n",
    "    # Open the image\n",
    "    img = Image.open(image_path)\n",
    "    \n",
    "    # Get the dimensions of the image\n",
    "    width, height = img.size\n",
    "    \n",
    "    # Iterate over every pixel row\n",
    "    for y in range(height):\n",
    "        # Check if the row index is even (since indexing starts from 0)\n",
    "        if y % 4 == 3 or y % 4 == 2 or y % 4 == 1: # really, really aggressive data savings\n",
    "        #if y % 3 == 2 or y % 3 == 1:\n",
    "        #if y % 2 == 1:\n",
    "            # Iterate over every pixel in the row\n",
    "            for x in range(width):\n",
    "                # Set the pixel to pure black\n",
    "                img.putpixel((x, y), (0, 0, 0))  # Setting RGB value to (0, 0, 0) for pure black\n",
    "    \n",
    "    # Save the modified image\n",
    "    img.save(\"processed_image.png\")\n",
    "    img.show()\n",
    "\n",
    "# Example usage\n",
    "process_image(test_image_file)"
   ]
  }
 ],
 "metadata": {
  "kernelspec": {
   "display_name": "base",
   "language": "python",
   "name": "python3"
  },
  "language_info": {
   "codemirror_mode": {
    "name": "ipython",
    "version": 3
   },
   "file_extension": ".py",
   "mimetype": "text/x-python",
   "name": "python",
   "nbconvert_exporter": "python",
   "pygments_lexer": "ipython3",
   "version": "3.11.3"
  }
 },
 "nbformat": 4,
 "nbformat_minor": 2
}
